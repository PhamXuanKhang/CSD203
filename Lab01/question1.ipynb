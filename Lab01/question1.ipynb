{
 "cells": [
  {
   "cell_type": "code",
   "execution_count": 109,
   "metadata": {},
   "outputs": [],
   "source": [
    "# Inititalize node class for singly linked list\n",
    "class Node:\n",
    "    __slots__ = '_value', '_next'\n",
    "    def __init__(self, value, next):\n",
    "        self._value = value\n",
    "        self._next = next"
   ]
  },
  {
   "cell_type": "code",
   "execution_count": 110,
   "metadata": {},
   "outputs": [],
   "source": [
    "# Create a singly linked list class with required method\n",
    "class SinglyLinkedList:\n",
    "    def __init__(self):\n",
    "        self._head = None\n",
    "        self._size = 0\n",
    "\n",
    "    def addToHead(self, x):\n",
    "        self._head = Node(x, self._head)\n",
    "        self._size += 1\n",
    "\n",
    "    def addToTail(self, x):\n",
    "        if not self._head:\n",
    "            self._head = Node(x, None)\n",
    "        else:\n",
    "            temp = self._head # using temporary variable to assign head node\n",
    "            while temp._next:\n",
    "                temp = temp._next # using loop to move to a next node\n",
    "            temp._next = Node(x, None)\n",
    "        self._size += 1\n",
    "\n",
    "    def addAfter(self, p, x):\n",
    "        temp = self._head\n",
    "        while temp:\n",
    "            if temp._value == p:\n",
    "                temp._next = Node(x, temp._next)\n",
    "                self._size += 1\n",
    "                break\n",
    "            else:\n",
    "                temp = temp._next\n",
    "\n",
    "    def traverse(self):\n",
    "        temp = self._head\n",
    "        if not temp:\n",
    "            print(\"None\")\n",
    "        while temp:\n",
    "            print(temp._value, end = \" -> \")\n",
    "            temp = temp._next\n",
    "\n",
    "    def deleteFromHead(self):\n",
    "        if not self._head:\n",
    "            return None\n",
    "        temp = self._head\n",
    "        self._head = self._head.next\n",
    "        self.size -= 1\n",
    "        return temp._value\n",
    "\n",
    "    def deleteFromTail(self):\n",
    "        if not self._head:\n",
    "            return None\n",
    "        if not self._head._next:\n",
    "            value = self._head._value\n",
    "            self._head = None\n",
    "            return value\n",
    "        temp = self._head\n",
    "        while temp._next._next:\n",
    "            temp = temp._next\n",
    "        value = temp._next._value\n",
    "        temp._next = None\n",
    "        self._size -= 1\n",
    "        return value\n",
    "\n",
    "    def deleteAfter(self, p):\n",
    "        temp = self._head\n",
    "        while temp:\n",
    "            if temp._value == p:\n",
    "                value = temp._next._value\n",
    "                temp._next = temp._next._next\n",
    "                self._size -= 1\n",
    "                return value\n",
    "            else:\n",
    "                temp = temp._next\n",
    "     \n",
    "    def del_first(self, x):\n",
    "        temp = self._head\n",
    "        previous = None\n",
    "        while temp:\n",
    "            if temp._value == x:\n",
    "                if previous:\n",
    "                    previous._next = temp._next\n",
    "                else:\n",
    "                    self._head = temp._next\n",
    "                self._size -= 1\n",
    "                break\n",
    "            previous = temp\n",
    "            temp = temp._next\n",
    "\n",
    "    def search(self, x):\n",
    "        temp = self._head\n",
    "        while temp:\n",
    "            if temp._value == x:\n",
    "                return temp\n",
    "            temp = temp._next\n",
    "        return None\n",
    "\n",
    "    def count(self):\n",
    "        return self._size\n"
   ]
  },
  {
   "cell_type": "code",
   "execution_count": 111,
   "metadata": {},
   "outputs": [],
   "source": [
    "Sgl = SinglyLinkedList()\n",
    "Sgl.addToHead(10)"
   ]
  },
  {
   "cell_type": "code",
   "execution_count": 112,
   "metadata": {},
   "outputs": [],
   "source": [
    "Sgl.addToTail(10)"
   ]
  },
  {
   "cell_type": "code",
   "execution_count": 113,
   "metadata": {},
   "outputs": [],
   "source": [
    "Sgl.addAfter(10, 5)"
   ]
  },
  {
   "cell_type": "code",
   "execution_count": 114,
   "metadata": {},
   "outputs": [
    {
     "data": {
      "text/plain": [
       "<__main__.Node at 0x2d4d1c4a860>"
      ]
     },
     "execution_count": 114,
     "metadata": {},
     "output_type": "execute_result"
    }
   ],
   "source": [
    "Sgl.search(5)"
   ]
  },
  {
   "cell_type": "code",
   "execution_count": 115,
   "metadata": {},
   "outputs": [
    {
     "name": "stdout",
     "output_type": "stream",
     "text": [
      "10 -> 5 -> 10 -> "
     ]
    }
   ],
   "source": [
    "Sgl.traverse()"
   ]
  }
 ],
 "metadata": {
  "kernelspec": {
   "display_name": "Python 3",
   "language": "python",
   "name": "python3"
  },
  "language_info": {
   "codemirror_mode": {
    "name": "ipython",
    "version": 3
   },
   "file_extension": ".py",
   "mimetype": "text/x-python",
   "name": "python",
   "nbconvert_exporter": "python",
   "pygments_lexer": "ipython3",
   "version": "3.10.10"
  }
 },
 "nbformat": 4,
 "nbformat_minor": 2
}
