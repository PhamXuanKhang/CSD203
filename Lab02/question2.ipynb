{
 "cells": [
  {
   "cell_type": "code",
   "execution_count": 19,
   "metadata": {},
   "outputs": [],
   "source": [
    "class Queue:\n",
    "    def __init__(self):\n",
    "        self.items = []\n",
    "\n",
    "    def isEmpty(self):\n",
    "        return self.items == []\n",
    "\n",
    "    def clear(self):\n",
    "        self.items = []\n",
    "\n",
    "    def enqueue(self, item):\n",
    "        self.items.insert(0, item)\n",
    "\n",
    "    def dequeue(self):\n",
    "        if not self.isEmpty():\n",
    "            return self.items.pop()\n",
    "        else:\n",
    "            return \"Exception: Queue is empty\"\n",
    "    \n",
    "    def first(self):\n",
    "        if not self.isEmpty():\n",
    "            return self.items[-1].value\n",
    "        else:\n",
    "            return \"Exception: Queue is empty\"\n",
    "\n",
    "    def traverse(self):\n",
    "        return self.items   "
   ]
  },
  {
   "cell_type": "code",
   "execution_count": 20,
   "metadata": {},
   "outputs": [],
   "source": [
    "# use a queue to convert a real number less than 1 in decimal system to binary system and display on the screen\n",
    "\n",
    "def decimal_to_binary(decimal):\n",
    "    queue = Queue()\n",
    "    while decimal > 0:\n",
    "        number = decimal*2\n",
    "        queue.enqueue(int(number))\n",
    "        decimal = number - int(number)\n",
    "    binary = \"\"\n",
    "    while not queue.isEmpty():\n",
    "        binary = binary + str(queue.dequeue())\n",
    "    return \"0.{}\".format(binary)"
   ]
  }
 ],
 "metadata": {
  "kernelspec": {
   "display_name": "Python 3",
   "language": "python",
   "name": "python3"
  },
  "language_info": {
   "codemirror_mode": {
    "name": "ipython",
    "version": 3
   },
   "file_extension": ".py",
   "mimetype": "text/x-python",
   "name": "python",
   "nbconvert_exporter": "python",
   "pygments_lexer": "ipython3",
   "version": "3.10.10"
  }
 },
 "nbformat": 4,
 "nbformat_minor": 2
}
