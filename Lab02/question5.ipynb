{
 "cells": [
  {
   "cell_type": "code",
   "execution_count": 7,
   "metadata": {},
   "outputs": [],
   "source": [
    "%run question1.ipynb\n",
    "%run question2.ipynb"
   ]
  },
  {
   "cell_type": "code",
   "execution_count": 8,
   "metadata": {},
   "outputs": [],
   "source": [
    "class Object:\n",
    "    def __init__(self, computer_name):\n",
    "        self.computer_name = computer_name\n",
    "lenovo = Object(\"Lenovo\")"
   ]
  },
  {
   "cell_type": "code",
   "execution_count": 9,
   "metadata": {},
   "outputs": [],
   "source": [
    "class Object_stack(Stack):\n",
    "    def __init__(self):\n",
    "        super().__init__()\n",
    "    \n",
    "class Object_queue(Queue):\n",
    "    def __init__(self):\n",
    "        super().__init__()"
   ]
  },
  {
   "cell_type": "code",
   "execution_count": 10,
   "metadata": {},
   "outputs": [],
   "source": [
    "if __name__ == '__main__':\n",
    "    s_stack = Object_stack()\n",
    "    s_stack.push(Object(\"LENOVO\").computer_name)\n",
    "    s_stack.push(Object(\"ASUS\").computer_name)\n",
    "    q_queue = Object_queue()\n",
    "    q_queue.enqueue(Object(\"DELL\").computer_name)\n",
    "    q_queue.dequeue()"
   ]
  }
 ],
 "metadata": {
  "kernelspec": {
   "display_name": "Python 3",
   "language": "python",
   "name": "python3"
  },
  "language_info": {
   "codemirror_mode": {
    "name": "ipython",
    "version": 3
   },
   "file_extension": ".py",
   "mimetype": "text/x-python",
   "name": "python",
   "nbconvert_exporter": "python",
   "pygments_lexer": "ipython3",
   "version": "3.10.10"
  }
 },
 "nbformat": 4,
 "nbformat_minor": 2
}
