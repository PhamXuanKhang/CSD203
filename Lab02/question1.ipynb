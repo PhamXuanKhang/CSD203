{
 "cells": [
  {
   "cell_type": "code",
   "execution_count": 41,
   "metadata": {},
   "outputs": [],
   "source": [
    "# using python to implement a stack of integer values"
   ]
  },
  {
   "cell_type": "code",
   "execution_count": 42,
   "metadata": {},
   "outputs": [],
   "source": [
    "class Stack:\n",
    "    def __init__(self):\n",
    "        self.items = []\n",
    "\n",
    "    def is_empty(self):\n",
    "        return self.items == []\n",
    "\n",
    "    def clear(self):\n",
    "        self.items = []\n",
    "\n",
    "    def push(self, item):\n",
    "        self.items.append(item)\n",
    "\n",
    "    def pop(self):\n",
    "        if self.is_empty():\n",
    "            return 'EmptyStackException: Stack is empty'\n",
    "        return self.items.pop()\n",
    "\n",
    "    def traverse(self):\n",
    "        return self.items\n"
   ]
  },
  {
   "cell_type": "code",
   "execution_count": 43,
   "metadata": {},
   "outputs": [],
   "source": [
    "# use a stack to convert an integer number in decimal system to binary system and display on the screen\n",
    "\n",
    "def decimal_to_binary(decimal):\n",
    "    stack = Stack()\n",
    "    while decimal > 0:\n",
    "        remainder = decimal % 2\n",
    "        stack.push(remainder)\n",
    "        decimal = decimal // 2\n",
    "    binary = \"\"\n",
    "    while not stack.is_empty():\n",
    "        binary = binary + str(stack.pop())\n",
    "    return binary"
   ]
  }
 ],
 "metadata": {
  "kernelspec": {
   "display_name": "Python 3",
   "language": "python",
   "name": "python3"
  },
  "language_info": {
   "codemirror_mode": {
    "name": "ipython",
    "version": 3
   },
   "file_extension": ".py",
   "mimetype": "text/x-python",
   "name": "python",
   "nbconvert_exporter": "python",
   "pygments_lexer": "ipython3",
   "version": "3.10.10"
  }
 },
 "nbformat": 4,
 "nbformat_minor": 2
}
