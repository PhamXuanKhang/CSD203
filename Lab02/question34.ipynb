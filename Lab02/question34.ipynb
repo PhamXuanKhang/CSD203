{
 "cells": [
  {
   "cell_type": "code",
   "execution_count": 15,
   "metadata": {},
   "outputs": [],
   "source": [
    "%run question1.ipynb\n",
    "%run question2.ipynb"
   ]
  },
  {
   "cell_type": "code",
   "execution_count": 16,
   "metadata": {},
   "outputs": [],
   "source": [
    "class String_stack(Stack):\n",
    "    def __init__(self):\n",
    "        super().__init__()\n",
    "    \n",
    "class String_queue(Queue):\n",
    "    def __init__(self):\n",
    "        super().__init__()"
   ]
  },
  {
   "cell_type": "code",
   "execution_count": null,
   "metadata": {},
   "outputs": [],
   "source": [
    "# a program with stack and queue of char is same as the above code, I think we can overwrite the push function to check the type of input optionally."
   ]
  },
  {
   "cell_type": "code",
   "execution_count": 17,
   "metadata": {},
   "outputs": [],
   "source": [
    "if __name__ == '__main__':\n",
    "    s_stack = String_stack()\n",
    "    s_stack.push(\"hello\")\n",
    "    s_stack.push(\"world\")\n",
    "    q_queue = String_queue()\n",
    "    q_queue.enqueue(\"hello\")\n",
    "    q_queue.dequeue()"
   ]
  }
 ],
 "metadata": {
  "kernelspec": {
   "display_name": "Python 3",
   "language": "python",
   "name": "python3"
  },
  "language_info": {
   "codemirror_mode": {
    "name": "ipython",
    "version": 3
   },
   "file_extension": ".py",
   "mimetype": "text/x-python",
   "name": "python",
   "nbconvert_exporter": "python",
   "pygments_lexer": "ipython3",
   "version": "3.10.10"
  }
 },
 "nbformat": 4,
 "nbformat_minor": 2
}
