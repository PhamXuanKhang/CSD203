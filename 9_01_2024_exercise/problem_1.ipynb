{
 "cells": [
  {
   "cell_type": "code",
   "execution_count": 31,
   "metadata": {},
   "outputs": [],
   "source": [
    "# Compare running time  in Prefix Averages algorithms  (03 version)\n",
    "import time"
   ]
  },
  {
   "cell_type": "code",
   "execution_count": 32,
   "metadata": {},
   "outputs": [],
   "source": [
    "# Use the definition with quadratic time\n",
    "def prefix_average1(S):\n",
    "    \"\"\"Return list such that, for all j, A[j] equals average of S[0], ..., S[j].\"\"\"\n",
    "    n = len(S)\n",
    "    A = [0] * n                 # create a new list of n zeros\n",
    "    for j in range(n):\n",
    "        total = 0               # begin computing S[0] + ... + S[j]\n",
    "        for i in range(j+1):\n",
    "            total += S[i]\n",
    "        A[j] = total / (i+1)    # record the average\n",
    "    return A\n"
   ]
  },
  {
   "cell_type": "code",
   "execution_count": 33,
   "metadata": {},
   "outputs": [],
   "source": [
    "# Use internal function of python\n",
    "def prefix_average2(S):\n",
    "    \"\"\"Return list such that, for all j, A[j] equals average of S[0], ..., S[j].\"\"\"\n",
    "    n = len(S)\n",
    "    A = [0] * n \n",
    "    for j in range(n):\n",
    "        A[j] = sum(S[0:j+1]) / (j+1)\n",
    "    return A"
   ]
  },
  {
   "cell_type": "code",
   "execution_count": 34,
   "metadata": {},
   "outputs": [],
   "source": [
    "# keep running sum with linear time\n",
    "def prefix_average3(S):\n",
    "    \"\"\"Return list such that, for all j, A[j] equals average of S[0], ..., S[j].\"\"\"\n",
    "    n = len(S)\n",
    "    A = [0] * n \n",
    "    total = 0\n",
    "    for j in range(n):\n",
    "        total += S[j]\n",
    "        A[j] = total / (j+1)\n",
    "    return A"
   ]
  },
  {
   "cell_type": "code",
   "execution_count": 35,
   "metadata": {},
   "outputs": [],
   "source": [
    "list_test = [i for i in range(10000)] # intialize test case"
   ]
  },
  {
   "cell_type": "code",
   "execution_count": 36,
   "metadata": {},
   "outputs": [
    {
     "name": "stdout",
     "output_type": "stream",
     "text": [
      "time_prefix1: 1.614046573638916\n",
      "time_prefix2: 0.23523521423339844\n",
      "time_prefix3: 0.0\n"
     ]
    }
   ],
   "source": [
    "# calculate run time of each function\n",
    "time_1_start = time.time()\n",
    "prefix_average1(list_test)\n",
    "time_1_2 = time.time()\n",
    "prefix_average2(list_test)\n",
    "time_2_3 = time.time()\n",
    "prefix_average3(list_test)\n",
    "time_3_end = time.time()\n",
    "\n",
    "print('time_prefix1:', time_1_2 - time_1_start)\n",
    "print('time_prefix2:', time_2_3 - time_1_2)\n",
    "print('time_prefix3:', time_3_end - time_2_3)"
   ]
  },
  {
   "cell_type": "markdown",
   "metadata": {},
   "source": [
    "According to the above result, the 3rd is the fastest algorithm and the 1st is the slowest algorithm. Although the O(n^2) run slower than the O(n) algorithm, using the available function in python can improve significantly the run time."
   ]
  }
 ],
 "metadata": {
  "kernelspec": {
   "display_name": "Python 3",
   "language": "python",
   "name": "python3"
  },
  "language_info": {
   "codemirror_mode": {
    "name": "ipython",
    "version": 3
   },
   "file_extension": ".py",
   "mimetype": "text/x-python",
   "name": "python",
   "nbconvert_exporter": "python",
   "pygments_lexer": "ipython3",
   "version": "3.10.10"
  }
 },
 "nbformat": 4,
 "nbformat_minor": 2
}
