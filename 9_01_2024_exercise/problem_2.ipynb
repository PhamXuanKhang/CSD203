{
 "cells": [
  {
   "cell_type": "code",
   "execution_count": 58,
   "metadata": {},
   "outputs": [],
   "source": [
    "# Binary Search (Recursion and no Recursion)\n",
    "from time import time"
   ]
  },
  {
   "cell_type": "code",
   "execution_count": 59,
   "metadata": {},
   "outputs": [],
   "source": [
    "# Only using loop\n",
    "\n",
    "# find the position of element x in array arr\n",
    "def binarySearch1(arr, l_bound, r_bound, x):\n",
    "\twhile l_bound <= r_bound:\n",
    "\t\tmid = l_bound + (r_bound - l_bound) // 2\n",
    "\t\t# Check if x is present at mid\n",
    "\t\tif arr[mid] == x:\n",
    "\t\t\treturn mid\n",
    "\t\t# If x is greater, ignore left half\n",
    "\t\telif arr[mid] < x:\n",
    "\t\t\tl_bound = mid + 1\n",
    "\t\t# If x is smaller, ignore right half\n",
    "\t\telse:\n",
    "\t\t\tr_bound = mid - 1\n",
    "\t# If we reach here, then the element was not present\n",
    "\treturn -1"
   ]
  },
  {
   "cell_type": "code",
   "execution_count": 60,
   "metadata": {},
   "outputs": [],
   "source": [
    "# Using recursion\n",
    "\n",
    "def binarySearch2(arr, l_bound, r_bound, x):\n",
    "\tif r_bound >= l_bound:\n",
    "\t\tmid = l_bound + (r_bound - l_bound) // 2\n",
    "\t\t# If element is present at the middle itself\n",
    "\t\tif arr[mid] == x:\n",
    "\t\t\treturn mid\n",
    "\t\t# If element is smaller than mid, then it can only be present in left subarray\n",
    "\t\telif arr[mid] > x:\n",
    "\t\t\treturn binarySearch2(arr, l_bound, mid-1, x)\n",
    "\t\t# Else the element can only be present in right subarray\n",
    "\t\telse:\n",
    "\t\t\treturn binarySearch2(arr, mid + 1, r_bound, x)\n",
    "\t# Element is not present in the array\n",
    "\telse:\n",
    "\t\treturn -1"
   ]
  },
  {
   "cell_type": "code",
   "execution_count": 61,
   "metadata": {},
   "outputs": [],
   "source": [
    "# initialize test case\n",
    "test_list = [x for x in range(100000000)]\n",
    "x_test = 55"
   ]
  },
  {
   "cell_type": "code",
   "execution_count": 62,
   "metadata": {},
   "outputs": [
    {
     "name": "stdout",
     "output_type": "stream",
     "text": [
      "func1 time: 0.0010027885437011719\n",
      "func2 time: 0.0010006427764892578\n"
     ]
    }
   ],
   "source": [
    "time_start = time()\n",
    "binarySearch1(test_list, 0, len(test_list)-1, x_test)\n",
    "time_1_2 = time()\n",
    "binarySearch2(test_list, 0, len(test_list)-1, x_test)\n",
    "time_end = time()\n",
    "\n",
    "print(f\"func1 time: {time_1_2 - time_start}\\nfunc2 time: {time_end - time_1_2}\")"
   ]
  },
  {
   "cell_type": "markdown",
   "metadata": {},
   "source": [
    "According to the above code snippet, the binarySearch1 function has a time complexity of O(n) and the binarySearch2 function has a time complexity of O(log n), so the function 2 run faster than the function 1. We can consider that using recursion is effective."
   ]
  }
 ],
 "metadata": {
  "kernelspec": {
   "display_name": "Python 3",
   "language": "python",
   "name": "python3"
  },
  "language_info": {
   "codemirror_mode": {
    "name": "ipython",
    "version": 3
   },
   "file_extension": ".py",
   "mimetype": "text/x-python",
   "name": "python",
   "nbconvert_exporter": "python",
   "pygments_lexer": "ipython3",
   "version": "3.10.10"
  }
 },
 "nbformat": 4,
 "nbformat_minor": 2
}
