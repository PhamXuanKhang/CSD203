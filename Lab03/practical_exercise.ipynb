{
 "cells": [
  {
   "cell_type": "code",
   "execution_count": 13,
   "metadata": {},
   "outputs": [],
   "source": [
    "# Write a recursive function that computes the sum of all numbers from 1 to n, where n is given as parameter.\n",
    "\n",
    "def sum(n):\n",
    "    return 1 if n == 1 else n + sum(n-1)"
   ]
  },
  {
   "cell_type": "code",
   "execution_count": 14,
   "metadata": {},
   "outputs": [],
   "source": [
    "# Write a recursive function that finds and returns the minimum element in an array, where the array and its size are given as parameters.\n",
    "\n",
    "def findmin(arr, n):\n",
    "    return arr[0] if n==1 else min(arr[n-1], findmin(arr, n-1))"
   ]
  },
  {
   "cell_type": "code",
   "execution_count": 15,
   "metadata": {},
   "outputs": [],
   "source": [
    "# Write a recursive function that computes and returns the sum of all elements in an array, where the array and its size are given as parameters.\n",
    "\n",
    "def findsum(arr, n):\n",
    "    return arr[0] if n==1 else arr[n-1] + findsum(arr, n-1)"
   ]
  },
  {
   "cell_type": "code",
   "execution_count": 16,
   "metadata": {},
   "outputs": [],
   "source": [
    "# Write a recursive function that determines whether an array is a palindrome, where the array and its size are given as parameters.\n",
    "\n",
    "def is_palindrome(arr, n):\n",
    "    return True if n == 0 or n == 1 else arr[n-1] == arr[0] and is_palindrome(arr[1:n-1], n-2)"
   ]
  },
  {
   "cell_type": "code",
   "execution_count": 17,
   "metadata": {},
   "outputs": [],
   "source": [
    "# Write a recursive function that searches for a target in a sorted array using binary search, where the array, its size and the target are given as parameters.\n",
    "\n",
    "def binary_search(arr, n, target):\n",
    "    if n == 0:\n",
    "        return False\n",
    "    mid = n // 2\n",
    "    if arr[mid] == target:\n",
    "        return True\n",
    "    elif arr[mid] > target:\n",
    "        return binary_search(arr[:mid], mid, target)\n",
    "    else:\n",
    "        return binary_search(arr[mid+1:n], n - mid - 1, target)"
   ]
  },
  {
   "cell_type": "code",
   "execution_count": 18,
   "metadata": {},
   "outputs": [],
   "source": [
    "# Implement the Greatest Common Divisor algorithm as recursive method GCD. Use recursion. Do NOT use a loop.\n",
    "\n",
    "def gcd(a, b):\n",
    "    return a if b==0 else gcd(b, a%b)"
   ]
  },
  {
   "cell_type": "code",
   "execution_count": 19,
   "metadata": {},
   "outputs": [],
   "source": [
    "# Implement the power function recursively\n",
    "\n",
    "def power(a, b):\n",
    "    return 1 if b == 0 else a*power(a, b-1)"
   ]
  },
  {
   "cell_type": "code",
   "execution_count": 20,
   "metadata": {},
   "outputs": [],
   "source": [
    "# Implement the factorial function recursively as fact\n",
    "\n",
    "def fact(n):\n",
    "    return 1 if n == 0 else n*fact(n-1)"
   ]
  },
  {
   "cell_type": "code",
   "execution_count": 21,
   "metadata": {},
   "outputs": [],
   "source": [
    "# Implement Fibonacci recursively as f\n",
    "\n",
    "def Fibonacci(n):\n",
    "    return 1 if n<=2 else Fibonacci(n-1) + Fibonacci(n-2)"
   ]
  },
  {
   "cell_type": "code",
   "execution_count": 22,
   "metadata": {},
   "outputs": [],
   "source": [
    "# Write recursive method addReciprocals that takes an integer as a parameter and returns the sum of the first n reciprocals. addReciprocals(n) returns (1.0 + 1.0/2.0 + 1.0/3.0 + 1.0/4.0 + ... + 1.0/n).\n",
    "\n",
    "def addReciprocals(n):\n",
    "    return 1 if n == 1 else 1/n + addReciprocals(n-1)"
   ]
  },
  {
   "cell_type": "code",
   "execution_count": 23,
   "metadata": {},
   "outputs": [],
   "source": [
    "#Tree height. Given a labeled binary tree (represented by a pointer to a TreeNode) calculate its height.\n",
    "\n",
    "class TreeNode:\n",
    "    def __init__(self, label, left=None, right=None):\n",
    "        self.label = label\n",
    "        self.left = left\n",
    "        self.right = right\n",
    "\n",
    "def tree_height(tree):\n",
    "    if tree is None:\n",
    "        return 0\n",
    "    else:\n",
    "        left_height = tree_height(tree.left)\n",
    "        right_height = tree_height(tree.right)\n",
    "        return max(left_height, right_height) + 1"
   ]
  },
  {
   "cell_type": "code",
   "execution_count": null,
   "metadata": {},
   "outputs": [],
   "source": [
    "# Tree size. Given a labeled binary tree (represented by a pointer to a TreeNode) calculate its size.\n",
    "\n",
    "class TreeNode:\n",
    "    def __init__(self, label, left=None, right=None):\n",
    "        self.label = label\n",
    "        self.left = left\n",
    "        self.right = right\n",
    "\n",
    "def tree_size(tree):\n",
    "    if tree is None:\n",
    "        return 0\n",
    "    else:\n",
    "        return 1 + tree_size(tree.left) + tree_size(tree.right)"
   ]
  }
 ],
 "metadata": {
  "kernelspec": {
   "display_name": "Python 3",
   "language": "python",
   "name": "python3"
  },
  "language_info": {
   "codemirror_mode": {
    "name": "ipython",
    "version": 3
   },
   "file_extension": ".py",
   "mimetype": "text/x-python",
   "name": "python",
   "nbconvert_exporter": "python",
   "pygments_lexer": "ipython3",
   "version": "3.10.10"
  }
 },
 "nbformat": 4,
 "nbformat_minor": 2
}
