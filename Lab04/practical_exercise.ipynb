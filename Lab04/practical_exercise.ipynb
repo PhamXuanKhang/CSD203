{
 "cells": [
  {
   "cell_type": "code",
   "execution_count": 35,
   "metadata": {},
   "outputs": [],
   "source": [
    "# a program in Python to implement a binary search tree\n",
    "class Node:\n",
    "    def __init__(self, value):\n",
    "        self.left = None\n",
    "        self.right = None\n",
    "        self.value = value\n",
    "    def insert(self, value):\n",
    "        if value < self.value:\n",
    "            if self.left is None:\n",
    "                self.left = Node(value)\n",
    "            else:\n",
    "                self.left.insert(value)\n",
    "        elif value > self.value:\n",
    "            if self.right is None:\n",
    "                self.right = Node(value)\n",
    "            else:\n",
    "                self.rigth.insert(value)\n",
    "        else:\n",
    "            self.value = value\n",
    "    def search(self, value):\n",
    "        if value < self.value:\n",
    "            if self.left is None:\n",
    "                return False\n",
    "            return self.left.search(value)\n",
    "        elif value > self.value:\n",
    "            if self.right is None:\n",
    "                return False\n",
    "            return self.right.search(value)\n",
    "        else:\n",
    "            return True\n",
    "    def count(self):\n",
    "        count = 1\n",
    "        if self.left is not None:\n",
    "            count += self.left.count()\n",
    "        if self.right is not None:\n",
    "            count += self.right.count()\n",
    "        return count\n",
    "    def dele(self, x):\n",
    "        if x < self.value:\n",
    "            if self.left is not None:\n",
    "                self.left.dele(x)\n",
    "        elif x > self.value:\n",
    "            if self.right is not None:\n",
    "                self.right.dele(x)\n",
    "        else:\n",
    "            if self.left is None:\n",
    "                if self.right is None:\n",
    "                    self.value = None\n",
    "                else:\n",
    "                    self.value = self.right.value\n",
    "                    self.right.dele(self.right.value)\n",
    "            else:\n",
    "                self.value = self.left.value\n",
    "                self.left = self.left.left        "
   ]
  },
  {
   "cell_type": "code",
   "execution_count": 36,
   "metadata": {},
   "outputs": [],
   "source": [
    "class binarySearchTree:\n",
    "    def __init__(self):\n",
    "        self.root = None\n",
    "    def isEmpty(self):\n",
    "        return self.root is None\n",
    "    def clear(self):\n",
    "        self.root = None\n",
    "    def search(self):\n",
    "        if self.isEmpty():\n",
    "            return False\n",
    "        else:\n",
    "            return self.root.search(value)\n",
    "    def insert(self, value):\n",
    "        if self.isEmpty():\n",
    "            self.root = Node(value)\n",
    "        else:\n",
    "            self.root.insert(value)\n",
    "    def count(self):\n",
    "        if self.isEmpty():\n",
    "            return 0\n",
    "        else:\n",
    "            return self.root.count()\n",
    "    def dele(self, x):\n",
    "        if self.isEmpty():\n",
    "            return False\n",
    "        else:\n",
    "            return self.root.dele(x)"
   ]
  },
  {
   "cell_type": "code",
   "execution_count": 37,
   "metadata": {},
   "outputs": [
    {
     "data": {
      "text/plain": [
       "3"
      ]
     },
     "execution_count": 37,
     "metadata": {},
     "output_type": "execute_result"
    }
   ],
   "source": [
    "tree = binarySearchTree()\n",
    "tree.root = Node(20)\n",
    "tree.insert(30)\n",
    "tree.insert(10)\n",
    "tree.dele(10)\n",
    "tree.count()"
   ]
  }
 ],
 "metadata": {
  "kernelspec": {
   "display_name": "Python 3",
   "language": "python",
   "name": "python3"
  },
  "language_info": {
   "codemirror_mode": {
    "name": "ipython",
    "version": 3
   },
   "file_extension": ".py",
   "mimetype": "text/x-python",
   "name": "python",
   "nbconvert_exporter": "python",
   "pygments_lexer": "ipython3",
   "version": "3.10.10"
  }
 },
 "nbformat": 4,
 "nbformat_minor": 2
}
